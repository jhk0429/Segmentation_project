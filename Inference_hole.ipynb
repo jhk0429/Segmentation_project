{
 "cells": [
  {
   "cell_type": "code",
   "execution_count": 1,
   "metadata": {
    "id": "ZgPEymw9njoY"
   },
   "outputs": [],
   "source": [
    "#path = 'saved_model_1012_hole_Adam_40_0.0001' \n",
    "path = 'saved_model_1012_hole_RMSprop_50_0.0001' #Best"
   ]
  },
  {
   "cell_type": "code",
   "execution_count": 2,
   "metadata": {
    "colab": {
     "base_uri": "https://localhost:8080/"
    },
    "id": "LXRm-jLtmzga",
    "outputId": "f7f57301-6e86-4cf3-deb6-f43f81a2829f"
   },
   "outputs": [
    {
     "name": "stdout",
     "output_type": "stream",
     "text": [
      "2.2.0\n"
     ]
    }
   ],
   "source": [
    "import tensorflow as tf\n",
    "from tensorflow import keras\n",
    "print(tf.__version__)\n",
    "from IPython.display import clear_output\n",
    "import matplotlib.pyplot as plt\n",
    "\n",
    "#import segmentation_models as sm\n",
    "\n",
    "import numpy as np\n",
    "from numpy import genfromtxt\n",
    "import matplotlib\n",
    "from matplotlib import pyplot\n",
    "from matplotlib.image import imread\n",
    "\n",
    "import glob\n",
    "import cv2\n",
    "import gc\n",
    "\n",
    "from tqdm import tqdm\n",
    "import time"
   ]
  },
  {
   "cell_type": "code",
   "execution_count": 312,
   "metadata": {
    "colab": {
     "base_uri": "https://localhost:8080/",
     "height": 54
    },
    "id": "KLDykGNHmkjU",
    "outputId": "9da2feff-35eb-478d-d052-7c9b2807464a"
   },
   "outputs": [
    {
     "data": {
      "text/plain": [
       "\"\\ndevice_name = tf.test.gpu_device_name()\\nif device_name != '/device:GPU:0':\\n  raise SystemError('GPU device not found')\\nprint('Found GPU at: {}'.format(device_name))\\n\""
      ]
     },
     "execution_count": 312,
     "metadata": {},
     "output_type": "execute_result"
    }
   ],
   "source": [
    "\"\"\"\n",
    "device_name = tf.test.gpu_device_name()\n",
    "if device_name != '/device:GPU:0':\n",
    "  raise SystemError('GPU device not found')\n",
    "print('Found GPU at: {}'.format(device_name))\n",
    "\"\"\""
   ]
  },
  {
   "cell_type": "code",
   "execution_count": 3,
   "metadata": {},
   "outputs": [],
   "source": [
    "IMG_SIZE = (624,672)\n",
    "\n",
    "CROP_SIZE = [tf.cast((2048/2 - 360), tf.int32), tf.cast((2448/2 - 360), tf.int32),624,672] #x,y,w,h"
   ]
  },
  {
   "cell_type": "code",
   "execution_count": 4,
   "metadata": {
    "id": "r0bNqPN0sR-1"
   },
   "outputs": [],
   "source": [
    "def display(display_list, idx=None, only_inference=False, fig_size=15):\n",
    "    \"\"\"\n",
    "    \"only_inference\" = True creates sample of inferenced image PNG file.\n",
    "    \"\"\"\n",
    "    if only_inference:\n",
    "        a = np.array(display_list)\n",
    "        a = a.astype(np.float32) * 255.0\n",
    "\n",
    "        cv2.imwrite(\"EX{}.png\".format(idx), cv2.cvtColor(a, cv2.COLOR_RGB2BGR))\n",
    "    \n",
    "    else:\n",
    "        plt.figure(figsize=(fig_size,fig_size))\n",
    "        title = ['Ground Truth Mask', 'Pushed', 'Stamped']\n",
    "\n",
    "        for i in range(len(display_list)):\n",
    "            plt.subplot(1, len(display_list), i+1)\n",
    "            plt.title(title[i])\n",
    "            plt.imshow(tf.keras.preprocessing.image.array_to_img(display_list[i]))\n",
    "            plt.axis('off')\n",
    "\n",
    "        plt.show()\n",
    "    "
   ]
  },
  {
   "cell_type": "code",
   "execution_count": 5,
   "metadata": {
    "id": "l5OoNvjhsSYQ"
   },
   "outputs": [],
   "source": [
    "def create_mask(pred_mask, num=0):\n",
    "    pred_mask = tf.argmax(pred_mask, axis=-1)\n",
    "    pred_mask = pred_mask[..., tf.newaxis]\n",
    "    return pred_mask[num]\n",
    "\n",
    "def show_predictions(test_mode=False, x=None,y=None, num=1):\n",
    "    if test_mode:\n",
    "        print(\"In testing Mode...\")\n",
    "        for i in range(num):\n",
    "            pred_mask = model.predict(x, batch_size=1)\n",
    "            display([x[i], y[i], create_mask(pred_mask, num=i)])\n",
    "    else:\n",
    "        display([sample_image, sample_mask,\n",
    "                 create_mask(model.predict(sample_image[tf.newaxis, ...]))])"
   ]
  },
  {
   "cell_type": "code",
   "execution_count": 164,
   "metadata": {},
   "outputs": [],
   "source": [
    "def draw_and_count(img, contours, label = '', draw_type = 'contour', show=True):\n",
    "    # img : original image\n",
    "    # contours: Contours found from opencv code\n",
    "    assert label in ['push', 'stamp', 'hole'], \"label must be either 'push' or 'stamp'\"\n",
    "    assert draw_type in ['bbox', 'contour'], \"draw type must be either 'bbox' or 'contour'\"\n",
    "    \n",
    "    if label=='push': val = 220\n",
    "    if label=='stamp': val = 150\n",
    "    if label=='hole' : val = 1000\n",
    "        \n",
    "    count = 0\n",
    "    area = []\n",
    "    width_height = []\n",
    "    \n",
    "    for idx, cnt in enumerate(contours):\n",
    "        a = cv2.contourArea(cnt)\n",
    "        if a < val:\n",
    "            continue\n",
    "        \n",
    "        area.append(a)\n",
    "        count += 1\n",
    "        \n",
    "        if draw_type == 'bbox':\n",
    "            x,y,w,h = cv2.boundingRect(cnt)\n",
    "            cv2.rectangle(img,(x,y),(x+w,y+h),(125,125,0),4)\n",
    "            width_height.append([w,h])\n",
    "            print(\"{} #{} has width of {} and height of {}\".format(label, idx, w, h))\n",
    "            \n",
    "        elif draw_type == 'contour':\n",
    "            cv2.drawContours(img, [cnt], 0, (125, 125, 0), 4) \n",
    "            \n",
    "    if show:        \n",
    "        display([img], fig_size=8)\n",
    "        print(\"{} {} found. Area: {}\".format(count,label,area))\n",
    "\n",
    "        \n",
    "    return img, area, width_height, count"
   ]
  },
  {
   "cell_type": "code",
   "execution_count": 7,
   "metadata": {
    "colab": {
     "base_uri": "https://localhost:8080/"
    },
    "id": "twqjJGlpgxFv",
    "outputId": "c47d45d0-441e-4991-97b0-01f0e2b1108e"
   },
   "outputs": [
    {
     "name": "stdout",
     "output_type": "stream",
     "text": [
      "{0: [0.0, 0.0, 0.0], 1: array([0., 0., 1.]), 2: [0.0, 0.0, 0.0], 3: [0.0, 0.0, 0.0], 4: array([0., 0., 1.])}\n"
     ]
    }
   ],
   "source": [
    "mask = imread('JR_dataset/train/silver_ng/new_gt_mask/높음2__분리막 눌림_은색.png') #2048 x 2448\n",
    "\n",
    "colors = np.unique(tf.reshape(mask,[-1,3]), axis=0)\n",
    "\n",
    "color_dict = {i: list(x) for i,x in enumerate(colors)}\n",
    "\n",
    "color_dict[1] = color_dict[0]\n",
    "color_dict[2] = color_dict[0]\n",
    "color_dict[3] = color_dict[0]\n",
    "color_dict[4] = np.array([0.0, 0.0, 1.0])\n",
    "color_dict[1] = color_dict[4]\n",
    "print(color_dict)\n",
    "\n",
    "def rgb_to_onehot(rgb_arr, color_dict):\n",
    "    num_classes = len(color_dict)\n",
    "    shape = rgb_arr.shape[:2] + (num_classes,)\n",
    "    arr = np.zeros(shape, dtype=np.int8)\n",
    "    for i, cls in enumerate(color_dict):\n",
    "        arr[:, :, i] = np.all(rgb_arr.reshape((-1, 3)) == color_dict[i], axis=1).reshape(shape[:2])\n",
    "    return arr"
   ]
  },
  {
   "cell_type": "markdown",
   "metadata": {},
   "source": [
    "# WITHOUT TRT"
   ]
  },
  {
   "cell_type": "code",
   "execution_count": 8,
   "metadata": {
    "id": "RlUMjm41npRV"
   },
   "outputs": [],
   "source": [
    "model = tf.keras.models.load_model(path)"
   ]
  },
  {
   "cell_type": "code",
   "execution_count": 13,
   "metadata": {},
   "outputs": [
    {
     "name": "stderr",
     "output_type": "stream",
     "text": [
      "100%|██████████| 4/4 [00:01<00:00,  2.02it/s]"
     ]
    },
    {
     "name": "stdout",
     "output_type": "stream",
     "text": [
      "Average inference time is:  493.582 ms\n"
     ]
    },
    {
     "name": "stderr",
     "output_type": "stream",
     "text": [
      "\n"
     ]
    }
   ],
   "source": [
    "\"\"\"\n",
    "time_list = []\n",
    "pred_mask = []\n",
    "\n",
    "for idx,image in enumerate(tqdm(glob.glob(\"JR_dataset/test/*.bmp\"))):\n",
    "    start = time.time()\n",
    "    \n",
    "    n = cv2.imread(image)\n",
    "    n = tf.cast(n, tf.float32) / 255.0\n",
    "    image = tf.image.crop_to_bounding_box(n, CROP_SIZE[0], CROP_SIZE[1], CROP_SIZE[2], CROP_SIZE[3])\n",
    "\n",
    "    image = tf.expand_dims(image,0)\n",
    "    pred_mask.append(model(image)) # N, H, W, 3\n",
    "    \n",
    "    ex = pred_mask[idx][0] # H,W,4\n",
    "    \n",
    "    hole = np.round(tf.expand_dims(ex[:,:,1], -1)) \n",
    "    circle = np.round(tf.expand_dims(ex[:,:,0], -1))\n",
    "\n",
    "    \n",
    "    hole = hole.astype(np.uint8) * 255\n",
    "    k = cv2.getStructuringElement(cv2.MORPH_RECT, (2,2))\n",
    "    closed_hole = cv2.dilate(hole, k)\n",
    "    contours, hierarchy = cv2.findContours(closed_hole, cv2.RETR_LIST, cv2.CHAIN_APPROX_NONE)\n",
    "    \n",
    "    stamp_img, stamp_area, wh, stamp_count = draw_and_count(hole, contours, label='stamp', show=False)\n",
    "    \n",
    "    time_list.append(time.time()-start)\n",
    "    \n",
    "print(\"Average inference time is: \", (np.mean(time_list) * 1000).round(3), \"ms\")\n",
    "\"\"\""
   ]
  },
  {
   "cell_type": "code",
   "execution_count": 9,
   "metadata": {
    "id": "hwMHOEtCqfvr"
   },
   "outputs": [],
   "source": [
    "from tensorflow.python.compiler.tensorrt import trt_convert as trt\n",
    "\n",
    "model = tf.saved_model.load(path, tags=[trt.tag_constants.SERVING])\n",
    "graph_func = model.signatures[trt.signature_constants.DEFAULT_SERVING_SIGNATURE_DEF_KEY]\n",
    "frozen_func = trt.convert_to_constants.convert_variables_to_constants_v2(graph_func)"
   ]
  },
  {
   "cell_type": "code",
   "execution_count": 143,
   "metadata": {
    "colab": {
     "base_uri": "https://localhost:8080/"
    },
    "id": "rrWm1GYVtKvY",
    "outputId": "3ae00121-3d80-4657-aa5a-024b3b0948bb",
    "scrolled": true
   },
   "outputs": [
    {
     "name": "stderr",
     "output_type": "stream",
     "text": [
      "100%|██████████| 46/46 [00:02<00:00, 21.70it/s]\n"
     ]
    },
    {
     "name": "stdout",
     "output_type": "stream",
     "text": [
      "Average inference time is:  45.681 ms\n",
      "Average hole area ratio is 1.3891571781257581. Number of errors: 0. Index: []\n"
     ]
    },
    {
     "data": {
      "image/png": "[encoded data removed]",
      "text/plain": [
       "<matplotlib.figure.Figure at 0x7fd3402876a0>"
      ]
     },
     "metadata": {
      "needs_background": "light"
     },
     "output_type": "display_data"
    }
   ],
   "source": [
    "time_list = []\n",
    "pred_mask = []\n",
    "hole_area = []\n",
    "error_idx = []\n",
    "threshold = 0.4\n",
    "\n",
    "ng_interval = [1-threshold, 1+threshold]\n",
    "ng_index = []\n",
    "ok_index = []\n",
    "\n",
    "img_loc = glob.glob(\"JR_dataset/train/*/*.bmp\")\n",
    "    \n",
    "    \n",
    "for idx,image in enumerate(tqdm(img_loc)):\n",
    "    \n",
    "    start = time.time()\n",
    "    \n",
    "    n = cv2.imread(image)\n",
    "    n = tf.cast(n, tf.float32) / 255.0\n",
    "    image = tf.image.crop_to_bounding_box(n, CROP_SIZE[0], CROP_SIZE[1], CROP_SIZE[2], CROP_SIZE[3])\n",
    "\n",
    "    flipped = tf.image.flip_left_right(image)\n",
    "    \n",
    "    image = tf.expand_dims(flipped,0)\n",
    "    pred_mask.append(frozen_func(image)) # idx, 1, 1, H, W, 4\n",
    "    \n",
    "    ex = pred_mask[idx][0][0]\n",
    "    \n",
    "    hole = np.round(tf.expand_dims(ex[:,:,1], -1)) \n",
    "    circle = np.round(tf.expand_dims(ex[:,:,0], -1))\n",
    "    \n",
    "    # STAMP\n",
    "    hole = hole.astype(np.uint8) * 255\n",
    "    k = cv2.getStructuringElement(cv2.MORPH_RECT, (15,15))\n",
    "    closed_stamp = cv2.erode(hole, k)\n",
    "    contours, hierarchy = cv2.findContours(closed_stamp, cv2.RETR_LIST, cv2.CHAIN_APPROX_NONE)\n",
    "    \n",
    "    stamp_img, area, wh, stamp_count = draw_and_count(hole, contours, label='stamp', show=False)\n",
    "                                       \n",
    "    if len(area) != 2: error_idx.append(idx)\n",
    "    else:\n",
    "        ratio = area[0]/area[1]\n",
    "        hole_area.append(ratio)\n",
    "        if ratio > ng_interval[0] and ratio < ng_interval[1]:\n",
    "            ng_index.append(idx)\n",
    "        else:\n",
    "            ok_index.append(idx)\n",
    "        \n",
    "    \n",
    "    time_list.append(time.time()-start)\n",
    "    \n",
    "plt.hist(hole_area, color = 'blue', edgecolor = 'black',bins=30)\n",
    "\n",
    "print(\"Average inference time is: \",(np.mean(time_list) * 1000).round(3), \"ms\")\n",
    "print(\"Average hole area ratio is {}. Number of errors: {}. Index: {}\".format(np.mean(hole_area), len(error_idx), error_idx))"
   ]
  },
  {
   "cell_type": "code",
   "execution_count": 11,
   "metadata": {
    "colab": {
     "base_uri": "https://localhost:8080/"
    },
    "id": "cH4GUMO4mcAD",
    "outputId": "96931dfc-beaa-47a5-efe8-492449956ca7"
   },
   "outputs": [
    {
     "name": "stdout",
     "output_type": "stream",
     "text": [
      "(46, 624, 672, 3)\n",
      "(46, 624, 672, 1)\n"
     ]
    }
   ],
   "source": [
    "gc.collect()\n",
    "\n",
    "train_x = []\n",
    "train_y = []\n",
    "\n",
    "for img in glob.glob(\"JR_dataset/train/*/*.bmp\"):\n",
    "    \n",
    "    n = cv2.imread(img)\n",
    "    n = tf.cast(n, tf.float32) / 255.0\n",
    "    n = tf.image.crop_to_bounding_box(n, CROP_SIZE[0], CROP_SIZE[1], CROP_SIZE[2], CROP_SIZE[3])\n",
    "\n",
    "    flipped = tf.image.flip_left_right(n)\n",
    "\n",
    "    train_x.append(flipped)\n",
    "\n",
    "    dir = \"/\".join(img.split(\"/\")[:-1]) + \"/new_gt_mask/\"\n",
    "    file_name = img.split(\"/\")[-1].split('.')[0]\n",
    "\n",
    "    y = imread(dir+file_name+\".png\")\n",
    "\n",
    "    a = rgb_to_onehot(y, color_dict) #change to one hot\n",
    "    \n",
    "    bb = tf.expand_dims(np.argmax(a, axis=-1),-1) #combine one hot #0,1,2,3\n",
    "    bbb = tf.image.crop_to_bounding_box(bb, CROP_SIZE[0], CROP_SIZE[1], CROP_SIZE[2], CROP_SIZE[3])\n",
    "\n",
    "    flipped2 = tf.image.flip_left_right(bbb)\n",
    "\n",
    "    train_y.append(flipped2)\n",
    "\n",
    "test_x = tf.convert_to_tensor(train_x)\n",
    "test_y = tf.convert_to_tensor(train_y)\n",
    "\n",
    "print(test_x.shape)\n",
    "print(test_y.shape)"
   ]
  },
  {
   "cell_type": "code",
   "execution_count": 166,
   "metadata": {},
   "outputs": [
    {
     "data": {
      "image/png": "[encoded data removed]",
      "text/plain": [
       "<matplotlib.figure.Figure at 0x7fd3501d6f98>"
      ]
     },
     "metadata": {
      "needs_background": "light"
     },
     "output_type": "display_data"
    }
   ],
   "source": [
    "idx = 19\n",
    "\n",
    "pred = np.float32(pred_mask[idx][0][0])\n",
    "ex = np.round(pred) # ex = H,W,4\n",
    "\n",
    "hole = tf.expand_dims(ex[:,:,1], -1) \n",
    "gt_mask = np.round(test_y[idx],decimals = 0) \n",
    "\n",
    "display([gt_mask, hole], fig_size=12)"
   ]
  },
  {
   "cell_type": "code",
   "execution_count": 167,
   "metadata": {
    "colab": {
     "base_uri": "https://localhost:8080/",
     "height": 497
    },
    "id": "0QwwNKUVIyoR",
    "outputId": "1e6e11aa-bf65-47f6-dee0-a87dd665ab29"
   },
   "outputs": [
    {
     "data": {
      "image/png": "[encoded data removed]",
      "text/plain": [
       "<matplotlib.figure.Figure at 0x7fd3501195f8>"
      ]
     },
     "metadata": {
      "needs_background": "light"
     },
     "output_type": "display_data"
    },
    {
     "name": "stdout",
     "output_type": "stream",
     "text": [
      "2 hole found. Area: [17892.5, 33852.0]\n",
      "Ratio: 0.5285507503249439\n"
     ]
    }
   ],
   "source": [
    "hole = np.array(hole).astype(np.uint8) * 255\n",
    "k = cv2.getStructuringElement(cv2.MORPH_RECT, (15,15))\n",
    "closed_stamp = cv2.erode(hole, k)\n",
    "\n",
    "contours, hierarchy = cv2.findContours(closed_stamp, cv2.RETR_LIST, cv2.CHAIN_APPROX_NONE)\n",
    "img, area, wh, count = draw_and_count(hole, contours, label=\"hole\")\n",
    "\n",
    "print(\"Ratio:\",area[0]/area[1])"
   ]
  },
  {
   "cell_type": "code",
   "execution_count": 168,
   "metadata": {},
   "outputs": [
    {
     "data": {
      "image/png": "[encoded data removed]",
      "text/plain": [
       "<matplotlib.figure.Figure at 0x7fd30c4eee80>"
      ]
     },
     "metadata": {
      "needs_background": "light"
     },
     "output_type": "display_data"
    },
    {
     "name": "stdout",
     "output_type": "stream",
     "text": [
      "2 hole found. Area: [19450.5, 32190.5]\n",
      "Ratio: 0.6042310619592737\n"
     ]
    }
   ],
   "source": [
    "def show_all(idx, num=None):\n",
    "    \"\"\"\n",
    "    idx: list of indexes we want to plot\n",
    "    give \"ng_index\" to plot all ng examples.\n",
    "    num: number of instances we want to plot\n",
    "    \"\"\"\n",
    "    import random\n",
    "    if not num: num = len(idx)\n",
    "    random.shuffle(idx)\n",
    "    \n",
    "    for i in idx[:num]:\n",
    "        pred = np.float32(pred_mask[i][0][0])\n",
    "        ex = np.round(pred) # ex = H,W,4\n",
    "\n",
    "        hole = tf.expand_dims(ex[:,:,1], -1) \n",
    "        gt_mask = np.round(test_y[i],decimals = 0)\n",
    "\n",
    "        hole = np.array(hole).astype(np.uint8) * 255\n",
    "        k = cv2.getStructuringElement(cv2.MORPH_RECT, (15,15))\n",
    "        closed_stamp = cv2.erode(hole, k)\n",
    "\n",
    "        contours, hierarchy = cv2.findContours(closed_stamp, cv2.RETR_LIST, cv2.CHAIN_APPROX_NONE)\n",
    "        img, area, wh, count = draw_and_count(hole, contours, label=\"hole\")\n",
    "\n",
    "\n",
    "        print(\"Ratio:\",area[0]/area[1])\n",
    "        \n",
    "show_all(ng_index,1)"
   ]
  },
  {
   "cell_type": "code",
   "execution_count": 380,
   "metadata": {},
   "outputs": [
    {
     "data": {
      "text/plain": [
       "'\\nchannel_0 = np.zeros((480,576,1)) #prediction\\nchannel_1 = np.zeros((480,576,1))\\nchannel_2 = np.zeros((480,576,1))\\n\\nchannel_0[pushed==1] = color_dict[1][0]\\nchannel_1[pushed==1] = color_dict[1][1]\\nchannel_2[pushed==1] = color_dict[1][2]\\n\\nchannel_0[circle==1] = color_dict[3][0]\\nchannel_1[circle==1] = color_dict[3][1]\\nchannel_2[circle==1] = color_dict[3][2]\\n\\nchannel_0[stamped==1] = color_dict[2][0]\\nchannel_1[stamped==1] = color_dict[2][1]\\nchannel_2[stamped==1] = color_dict[2][2]\\n\\nchannel_0[bg==1] = color_dict[0][0]\\nchannel_1[bg==1] = color_dict[0][1]\\nchannel_2[bg==1] = color_dict[0][2]\\n\\ncom = tf.concat([channel_0, channel_1, channel_2], -1)\\n'"
      ]
     },
     "execution_count": 380,
     "metadata": {},
     "output_type": "execute_result"
    }
   ],
   "source": [
    "\"\"\"\n",
    "channel_0 = np.zeros((480,576,1)) #prediction\n",
    "channel_1 = np.zeros((480,576,1))\n",
    "channel_2 = np.zeros((480,576,1))\n",
    "\n",
    "channel_0[pushed==1] = color_dict[1][0]\n",
    "channel_1[pushed==1] = color_dict[1][1]\n",
    "channel_2[pushed==1] = color_dict[1][2]\n",
    "\n",
    "channel_0[circle==1] = color_dict[3][0]\n",
    "channel_1[circle==1] = color_dict[3][1]\n",
    "channel_2[circle==1] = color_dict[3][2]\n",
    "\n",
    "channel_0[stamped==1] = color_dict[2][0]\n",
    "channel_1[stamped==1] = color_dict[2][1]\n",
    "channel_2[stamped==1] = color_dict[2][2]\n",
    "\n",
    "channel_0[bg==1] = color_dict[0][0]\n",
    "channel_1[bg==1] = color_dict[0][1]\n",
    "channel_2[bg==1] = color_dict[0][2]\n",
    "\n",
    "com = tf.concat([channel_0, channel_1, channel_2], -1)\n",
    "\n",
    "\n",
    "display(com, idx, only_inference=True)\n",
    "\"\"\""
   ]
  },
  {
   "cell_type": "code",
   "execution_count": 362,
   "metadata": {},
   "outputs": [
    {
     "name": "stdout",
     "output_type": "stream",
     "text": [
      "Background IoU: 0.9876946 Background Accuracy: 0.995884\n",
      "Push IoU: 0.6679955 Push Accuracy: 0.41133097\n",
      "Stamp IoU: 0.54008263 Stamp Accuracy: 0.102555335\n",
      "Circle IoU: 0.98253965 Circle Accuracy: 0.98730356\n"
     ]
    }
   ],
   "source": [
    "def class_iou(gt_mask, prediction, cls = 0, metric = 'iou'):\n",
    "    \"\"\"\n",
    "    Returns IoU score if metric == 'iou', Accuracy if metric == 'acc'\n",
    "    Accuracy not recommended for evaluating segmentation task\n",
    "    \"\"\"\n",
    "    a = np.zeros(IMG_SIZE + (1,))\n",
    "    b = np.zeros(IMG_SIZE + (1,))\n",
    "    \n",
    "    a[gt_mask==cls] = 1\n",
    "    b[prediction==1] = 1\n",
    "    \n",
    "    if metric == 'iou':\n",
    "        iou = tf.keras.metrics.MeanIoU(num_classes=2)\n",
    "        iou.update_state(a, b)\n",
    "        return(iou.result().numpy())\n",
    "    \n",
    "    elif metric == 'acc':\n",
    "        m = tf.keras.metrics.Accuracy()\n",
    "\n",
    "        weight = np.zeros(a.shape)\n",
    "        weight[gt_mask==cls] = 1\n",
    "\n",
    "        m.update_state(a, b, sample_weight = weight)\n",
    "    \n",
    "        return(m.result().numpy())\n",
    "\n",
    "\n",
    "bg_iou = []\n",
    "push_iou = []\n",
    "stamp_iou = []\n",
    "circle_iou = []\n",
    "\n",
    "bg_acc = []\n",
    "push_acc = []\n",
    "stamp_acc = []\n",
    "circle_acc = []\n",
    "\n",
    "for idx in range(46):\n",
    "    ex = np.round(pred_mask[idx][0][0]) # ex = H,W,4\n",
    "    \n",
    "    prediction = np.zeros(IMG_SIZE + (1,))\n",
    "\n",
    "    pushed = tf.expand_dims(ex[:,:,1], -1) + tf.expand_dims(ex[:,:,2], -1)\n",
    "    circle = tf.expand_dims(ex[:,:,3], -1)\n",
    "    stamped = tf.expand_dims(ex[:,:,2], -1) # stamped = H,W,1\n",
    "    bg = tf.expand_dims(ex[:,:,0], -1)\n",
    "\n",
    "    gt_mask = np.round(test_y[idx],decimals = 0)\n",
    "    \n",
    "    prediction[pushed==1] = 1\n",
    "    prediction[stamped==1] = 2\n",
    "    prediction[circle==1] = 3\n",
    "    prediction[bg==1] = 0\n",
    "    \n",
    "    bg_acc.append(class_iou(gt_mask, bg, metric='acc'))\n",
    "    push_acc.append(class_iou(gt_mask, pushed, cls=1, metric='acc'))\n",
    "    stamp_acc.append(class_iou(gt_mask, stamped, cls=2, metric='acc'))\n",
    "    circle_acc.append(class_iou(gt_mask, circle, cls=3, metric='acc'))\n",
    "    \n",
    "    bg_iou.append(class_iou(gt_mask,bg))\n",
    "    push_iou.append(class_iou(gt_mask,pushed,cls=1))\n",
    "    stamp_iou.append(class_iou(gt_mask,stamped,cls=2))\n",
    "    circle_iou.append(class_iou(gt_mask,circle,cls=3))\n",
    "    \n",
    "print(\"Background IoU:\", np.mean(bg_iou), \"Background Accuracy:\", np.mean(bg_acc)) #0.986\n",
    "print(\"Push IoU:\", np.mean(push_iou), \"Push Accuracy:\", np.mean(push_acc)) #0.664\n",
    "print(\"Stamp IoU:\", np.mean(stamp_iou), \"Stamp Accuracy:\", np.mean(stamp_acc)) #0.544\n",
    "print(\"Circle IoU:\", np.mean(circle_iou), \"Circle Accuracy:\", np.mean(circle_acc)) #0.981\n"
   ]
  },
  {
   "cell_type": "code",
   "execution_count": null,
   "metadata": {},
   "outputs": [],
   "source": []
  },
  {
   "cell_type": "code",
   "execution_count": null,
   "metadata": {},
   "outputs": [],
   "source": []
  }
 ],
 "metadata": {
  "accelerator": "GPU",
  "colab": {
   "name": "Inference.ipynb",
   "provenance": []
  },
  "kernelspec": {
   "display_name": "Python 3",
   "language": "python",
   "name": "python3"
  },
  "language_info": {
   "codemirror_mode": {
    "name": "ipython",
    "version": 3
   },
   "file_extension": ".py",
   "mimetype": "text/x-python",
   "name": "python",
   "nbconvert_exporter": "python",
   "pygments_lexer": "ipython3",
   "version": "3.6.9"
  }
 },
 "nbformat": 4,
 "nbformat_minor": 4
}
