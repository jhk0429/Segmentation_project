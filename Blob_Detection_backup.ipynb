{
 "cells": [
  {
   "cell_type": "code",
   "execution_count": 1,
   "metadata": {},
   "outputs": [],
   "source": [
    "import cv2\n",
    "detector = cv2.SimpleBlobDetector()\n",
    "params = cv2.SimpleBlobDetector_Params()\n",
    "\n",
    "params.minThreshold = 0\n",
    "params.maxThreshold = 255\n",
    "\n",
    "#params.minRepeatability = 2\n",
    "\n",
    "# Filter by Area.\n",
    "params.filterByArea = True\n",
    "params.minArea = 300 #400\n",
    "params.maxArea = 1e35\n",
    "\n",
    "# Filter by Color (black=0)\n",
    "params.filterByColor = True\n",
    "params.blobColor = 255\n",
    "\n",
    "# Filter by Circularity\n",
    "params.filterByCircularity = True\n",
    "params.minCircularity = 0\n",
    "params.maxCircularity = 1\n",
    "\n",
    "# Filter by Convexity\n",
    "params.filterByConvexity = True\n",
    "params.minConvexity = 0\n",
    "params.maxConvexity = 1\n",
    "\n",
    "# Filter by InertiaRatio\n",
    "params.filterByInertia = True\n",
    "params.minInertiaRatio = 0\n",
    "params.maxInertiaRatio = 1\n",
    "\n",
    "# Distance Between Blobs\n",
    "params.minDistBetweenBlobs = 70\n",
    "\n",
    "detector = cv2.SimpleBlobDetector_create(params)"
   ]
  },
  {
   "cell_type": "code",
   "execution_count": 2,
   "metadata": {},
   "outputs": [
    {
     "ename": "NameError",
     "evalue": "name 'closed_stamp' is not defined",
     "output_type": "error",
     "traceback": [
      "\u001b[0;31m---------------------------------------------------------------------------\u001b[0m",
      "\u001b[0;31mNameError\u001b[0m                                 Traceback (most recent call last)",
      "\u001b[0;32m<ipython-input-2-d12d6cbbe833>\u001b[0m in \u001b[0;36m<module>\u001b[0;34m\u001b[0m\n\u001b[1;32m      1\u001b[0m \u001b[0;32mimport\u001b[0m \u001b[0mmath\u001b[0m\u001b[0;34m\u001b[0m\u001b[0;34m\u001b[0m\u001b[0m\n\u001b[1;32m      2\u001b[0m \u001b[0;34m\u001b[0m\u001b[0m\n\u001b[0;32m----> 3\u001b[0;31m \u001b[0mkeypoints\u001b[0m \u001b[0;34m=\u001b[0m \u001b[0mdetector\u001b[0m\u001b[0;34m.\u001b[0m\u001b[0mdetect\u001b[0m\u001b[0;34m(\u001b[0m\u001b[0mclosed_stamp\u001b[0m\u001b[0;34m)\u001b[0m\u001b[0;34m\u001b[0m\u001b[0;34m\u001b[0m\u001b[0m\n\u001b[0m\u001b[1;32m      4\u001b[0m \u001b[0mstamp_count\u001b[0m \u001b[0;34m=\u001b[0m \u001b[0;36m0\u001b[0m\u001b[0;34m\u001b[0m\u001b[0;34m\u001b[0m\u001b[0m\n\u001b[1;32m      5\u001b[0m \u001b[0;34m\u001b[0m\u001b[0m\n",
      "\u001b[0;31mNameError\u001b[0m: name 'closed_stamp' is not defined"
     ]
    }
   ],
   "source": [
    "import math\n",
    "\n",
    "keypoints = detector.detect(closed_stamp)\n",
    "stamp_count = 0\n",
    "\n",
    "for keypoint in keypoints:\n",
    "   x = int(keypoint.pt[0])\n",
    "   y = int(keypoint.pt[1])\n",
    "   s = keypoint.size\n",
    "   r = int(math.floor(s/2))\n",
    "   print (\"The blob with location {}x{} has size of {}\".format(x,y,s))\n",
    "   #cv2.circle(img, (x, y), r, (0, 0, 255), 2)\n",
    "   stamp_count += 1\n",
    "\n",
    "# Draw blobs\n",
    "blobs = cv2.drawKeypoints(closed_stamp, keypoints, np.array([]), (255,0,0), cv2.DRAW_MATCHES_FLAGS_DRAW_RICH_KEYPOINTS)\n",
    "display([blobs])\n",
    "\n",
    "print(\"{} stamps detected\".format(stamp_count))"
   ]
  },
  {
   "cell_type": "code",
   "execution_count": 3,
   "metadata": {},
   "outputs": [],
   "source": [
    "params.minArea = 170 #410\n",
    "params.minDistBetweenBlobs = 50\n",
    "\n",
    "\n",
    "params.minInertiaRatio = 0.013\n",
    "params.maxInertiaRatio = 1 #exclude long ones\n",
    "\n",
    "detector = cv2.SimpleBlobDetector_create(params)"
   ]
  },
  {
   "cell_type": "code",
   "execution_count": null,
   "metadata": {},
   "outputs": [],
   "source": [
    "keypoints = detector.detect(closing)\n",
    "pushed_count = 0\n",
    "\n",
    "for keypoint in keypoints:\n",
    "   x = int(keypoint.pt[0])\n",
    "   y = int(keypoint.pt[1])\n",
    "   s = keypoint.size\n",
    "   r = int(math.floor(s/2))\n",
    "   print (\"The blob with location {}x{} has size of {}\".format(x,y,np.round(s)))\n",
    "   #cv2.circle(img, (x, y), r, (0, 0, 255), 2)\n",
    "   pushed_count += 1\n",
    "\n",
    "# Draw blobs\n",
    "blobs = cv2.drawKeypoints(closing, keypoints, np.array([]), (255,0,0), cv2.DRAW_MATCHES_FLAGS_DRAW_RICH_KEYPOINTS)\n",
    "display([blobs])\n",
    "\n",
    "print(\"{} pushes detected\".format(pushed_count))"
   ]
  }
 ],
 "metadata": {
  "kernelspec": {
   "display_name": "Python 3",
   "language": "python",
   "name": "python3"
  },
  "language_info": {
   "codemirror_mode": {
    "name": "ipython",
    "version": 3
   },
   "file_extension": ".py",
   "mimetype": "text/x-python",
   "name": "python",
   "nbconvert_exporter": "python",
   "pygments_lexer": "ipython3",
   "version": "3.6.9"
  }
 },
 "nbformat": 4,
 "nbformat_minor": 4
}
